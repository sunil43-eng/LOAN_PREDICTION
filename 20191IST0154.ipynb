{
  "nbformat": 4,
  "nbformat_minor": 0,
  "metadata": {
    "colab": {
      "name": "Untitled10.ipynb",
      "provenance": []
    },
    "kernelspec": {
      "name": "python3",
      "display_name": "Python 3"
    },
    "language_info": {
      "name": "python"
    }
  },
  "cells": [
    {
      "cell_type": "markdown",
      "metadata": {
        "id": "rf2YLffoWweO"
      },
      "source": [
        "data file: CSV containing the customers for whom loan eligibility is known as 'Loan_Status'\n",
        "\n",
        "Loan_ID - Unique Loan ID\n",
        "\n",
        "Gender - Male/ Female\n",
        "\n",
        "Married - Applicant married (Y/N)\n",
        "\n",
        "Dependents - Number of dependents\n",
        "\n",
        "Education - Applicant Education (Graduate/ Under Graduate)\n",
        "\n",
        "Self_Employed - Self employed (Y/N)\n",
        "\n",
        "ApplicantIncome - Applicant income\n",
        "\n",
        "CoapplicantIncome - Coapplicant income\n",
        "\n",
        "LoanAmount - Loan amount in thousands\n",
        "\n",
        "Loan_Amount_Term - Term of loan in months\n",
        "\n",
        "Credit_History - credit history meets guidelines\n",
        "\n",
        "Property_Area - Urban/ Semi Urban/ Rural\n",
        "\n",
        "Loan_Status - (Target) Loan approved (Y/N)"
      ]
    },
    {
      "cell_type": "markdown",
      "metadata": {
        "id": "YnmSZOpjW1Ko"
      },
      "source": [
        "##Importing Libraries"
      ]
    },
    {
      "cell_type": "code",
      "metadata": {
        "id": "Lc92JHlJPME2"
      },
      "source": [
        "import pandas as pd\n",
        "import numpy as np\n",
        "import seaborn as sns\n",
        "import matplotlib.pyplot as plt\n",
        "import warnings\n",
        "warnings.filterwarnings('ignore')\n",
        "%matplotlib inline"
      ],
      "execution_count": 4,
      "outputs": []
    },
    {
      "cell_type": "markdown",
      "metadata": {
        "id": "WNf98ranW7GB"
      },
      "source": [
        "###Importing the data and Looking at the Dataset"
      ]
    },
    {
      "cell_type": "code",
      "metadata": {
        "colab": {
          "base_uri": "https://localhost:8080/",
          "height": 241
        },
        "id": "UE6ZgzioPTGM",
        "outputId": "17e3875e-e910-44b9-ce35-9e3a81355f0f"
      },
      "source": [
        "Loan_train=pd.read_csv('/content/data_file.csv')\n",
        "Loan_train.head()"
      ],
      "execution_count": 59,
      "outputs": [
        {
          "output_type": "execute_result",
          "data": {
            "text/html": [
              "<div>\n",
              "<style scoped>\n",
              "    .dataframe tbody tr th:only-of-type {\n",
              "        vertical-align: middle;\n",
              "    }\n",
              "\n",
              "    .dataframe tbody tr th {\n",
              "        vertical-align: top;\n",
              "    }\n",
              "\n",
              "    .dataframe thead th {\n",
              "        text-align: right;\n",
              "    }\n",
              "</style>\n",
              "<table border=\"1\" class=\"dataframe\">\n",
              "  <thead>\n",
              "    <tr style=\"text-align: right;\">\n",
              "      <th></th>\n",
              "      <th>Loan_ID</th>\n",
              "      <th>Gender</th>\n",
              "      <th>Married</th>\n",
              "      <th>Dependents</th>\n",
              "      <th>Education</th>\n",
              "      <th>Self_Employed</th>\n",
              "      <th>ApplicantIncome</th>\n",
              "      <th>CoapplicantIncome</th>\n",
              "      <th>LoanAmount</th>\n",
              "      <th>Loan_Amount_Term</th>\n",
              "      <th>Credit_History</th>\n",
              "      <th>Property_Area</th>\n",
              "      <th>Loan_Status</th>\n",
              "    </tr>\n",
              "  </thead>\n",
              "  <tbody>\n",
              "    <tr>\n",
              "      <th>0</th>\n",
              "      <td>LP001002</td>\n",
              "      <td>Male</td>\n",
              "      <td>No</td>\n",
              "      <td>0</td>\n",
              "      <td>Graduate</td>\n",
              "      <td>No</td>\n",
              "      <td>5849</td>\n",
              "      <td>0.0</td>\n",
              "      <td>NaN</td>\n",
              "      <td>360.0</td>\n",
              "      <td>1.0</td>\n",
              "      <td>Urban</td>\n",
              "      <td>Y</td>\n",
              "    </tr>\n",
              "    <tr>\n",
              "      <th>1</th>\n",
              "      <td>LP001003</td>\n",
              "      <td>Male</td>\n",
              "      <td>Yes</td>\n",
              "      <td>1</td>\n",
              "      <td>Graduate</td>\n",
              "      <td>No</td>\n",
              "      <td>4583</td>\n",
              "      <td>1508.0</td>\n",
              "      <td>128.0</td>\n",
              "      <td>360.0</td>\n",
              "      <td>1.0</td>\n",
              "      <td>Rural</td>\n",
              "      <td>N</td>\n",
              "    </tr>\n",
              "    <tr>\n",
              "      <th>2</th>\n",
              "      <td>LP001005</td>\n",
              "      <td>Male</td>\n",
              "      <td>Yes</td>\n",
              "      <td>0</td>\n",
              "      <td>Graduate</td>\n",
              "      <td>Yes</td>\n",
              "      <td>3000</td>\n",
              "      <td>0.0</td>\n",
              "      <td>66.0</td>\n",
              "      <td>360.0</td>\n",
              "      <td>1.0</td>\n",
              "      <td>Urban</td>\n",
              "      <td>Y</td>\n",
              "    </tr>\n",
              "    <tr>\n",
              "      <th>3</th>\n",
              "      <td>LP001006</td>\n",
              "      <td>Male</td>\n",
              "      <td>Yes</td>\n",
              "      <td>0</td>\n",
              "      <td>Not Graduate</td>\n",
              "      <td>No</td>\n",
              "      <td>2583</td>\n",
              "      <td>2358.0</td>\n",
              "      <td>120.0</td>\n",
              "      <td>360.0</td>\n",
              "      <td>1.0</td>\n",
              "      <td>Urban</td>\n",
              "      <td>Y</td>\n",
              "    </tr>\n",
              "    <tr>\n",
              "      <th>4</th>\n",
              "      <td>LP001008</td>\n",
              "      <td>Male</td>\n",
              "      <td>No</td>\n",
              "      <td>0</td>\n",
              "      <td>Graduate</td>\n",
              "      <td>No</td>\n",
              "      <td>6000</td>\n",
              "      <td>0.0</td>\n",
              "      <td>141.0</td>\n",
              "      <td>360.0</td>\n",
              "      <td>1.0</td>\n",
              "      <td>Urban</td>\n",
              "      <td>Y</td>\n",
              "    </tr>\n",
              "  </tbody>\n",
              "</table>\n",
              "</div>"
            ],
            "text/plain": [
              "    Loan_ID Gender Married  ... Credit_History Property_Area Loan_Status\n",
              "0  LP001002   Male      No  ...            1.0         Urban           Y\n",
              "1  LP001003   Male     Yes  ...            1.0         Rural           N\n",
              "2  LP001005   Male     Yes  ...            1.0         Urban           Y\n",
              "3  LP001006   Male     Yes  ...            1.0         Urban           Y\n",
              "4  LP001008   Male      No  ...            1.0         Urban           Y\n",
              "\n",
              "[5 rows x 13 columns]"
            ]
          },
          "metadata": {},
          "execution_count": 59
        }
      ]
    },
    {
      "cell_type": "markdown",
      "metadata": {
        "id": "AGvmvyLMW9SA"
      },
      "source": [
        "###Shape of the Dataset"
      ]
    },
    {
      "cell_type": "code",
      "metadata": {
        "colab": {
          "base_uri": "https://localhost:8080/"
        },
        "id": "BzhFOiGyPgDy",
        "outputId": "0e8de04e-b8c5-4ca8-a768-935934da2714"
      },
      "source": [
        "print('Number of Rows in the Data',Loan_train.shape[0])\n",
        "print('Number of Columns in the Data',Loan_train.shape[1])"
      ],
      "execution_count": 8,
      "outputs": [
        {
          "output_type": "stream",
          "name": "stdout",
          "text": [
            "Number of Rows in the Data 614\n",
            "Number of Columns in the Data 13\n"
          ]
        }
      ]
    },
    {
      "cell_type": "code",
      "metadata": {
        "colab": {
          "base_uri": "https://localhost:8080/"
        },
        "id": "N4np9cx3PnNK",
        "outputId": "d47486be-e08f-4766-9392-69747e6954d2"
      },
      "source": [
        "Loan_train.info()"
      ],
      "execution_count": 9,
      "outputs": [
        {
          "output_type": "stream",
          "name": "stdout",
          "text": [
            "<class 'pandas.core.frame.DataFrame'>\n",
            "RangeIndex: 614 entries, 0 to 613\n",
            "Data columns (total 13 columns):\n",
            " #   Column             Non-Null Count  Dtype  \n",
            "---  ------             --------------  -----  \n",
            " 0   Loan_ID            614 non-null    object \n",
            " 1   Gender             601 non-null    object \n",
            " 2   Married            611 non-null    object \n",
            " 3   Dependents         599 non-null    object \n",
            " 4   Education          614 non-null    object \n",
            " 5   Self_Employed      582 non-null    object \n",
            " 6   ApplicantIncome    614 non-null    int64  \n",
            " 7   CoapplicantIncome  614 non-null    float64\n",
            " 8   LoanAmount         592 non-null    float64\n",
            " 9   Loan_Amount_Term   600 non-null    float64\n",
            " 10  Credit_History     564 non-null    float64\n",
            " 11  Property_Area      614 non-null    object \n",
            " 12  Loan_Status        614 non-null    object \n",
            "dtypes: float64(4), int64(1), object(8)\n",
            "memory usage: 62.5+ KB\n"
          ]
        }
      ]
    },
    {
      "cell_type": "markdown",
      "metadata": {
        "id": "QY9fIwWiXxAm"
      },
      "source": [
        "We observe there are Null values in the Data.\n",
        "Credit_History and Loan_Amount_Term are Categorical varible we need to change its Data type.\n",
        "Loan_Status is the Target Variables.\n",
        "We can drop the Loan_ID Column as it does not provide any information."
      ]
    },
    {
      "cell_type": "markdown",
      "metadata": {
        "id": "qqLHH2z_Xyfr"
      },
      "source": [
        "##Checking for duplicate values"
      ]
    },
    {
      "cell_type": "code",
      "metadata": {
        "colab": {
          "base_uri": "https://localhost:8080/"
        },
        "id": "CTEK4fe0Pqth",
        "outputId": "f4cba0ad-04d8-48d0-ef71-2b12e2af9f65"
      },
      "source": [
        "dups=Loan_train.duplicated()\n",
        "print('Number of duplicate records',dups.sum())"
      ],
      "execution_count": 10,
      "outputs": [
        {
          "output_type": "stream",
          "name": "stdout",
          "text": [
            "Number of duplicate records 0\n"
          ]
        }
      ]
    },
    {
      "cell_type": "code",
      "metadata": {
        "id": "YJDltBFpPtp1"
      },
      "source": [
        "Loan_train['Credit_History']=Loan_train['Credit_History'].astype('object')\n",
        "Loan_train['Loan_Amount_Term']=Loan_train['Loan_Amount_Term'].astype('object')"
      ],
      "execution_count": 13,
      "outputs": []
    },
    {
      "cell_type": "code",
      "metadata": {
        "id": "9_XRSqrJPxaZ"
      },
      "source": [
        "Loan_train['Dependents']=np.where(Loan_train['Dependents']=='0',0,Loan_train['Dependents'])\n",
        "Loan_train['Dependents']=np.where(Loan_train['Dependents']=='1',1,Loan_train['Dependents'])\n",
        "Loan_train['Dependents']=np.where(Loan_train['Dependents']=='2',2,Loan_train['Dependents'])\n",
        "Loan_train['Dependents']=np.where(Loan_train['Dependents']=='3+',3,Loan_train['Dependents'])"
      ],
      "execution_count": 15,
      "outputs": []
    },
    {
      "cell_type": "code",
      "metadata": {
        "id": "xWnpxmfMQCxv"
      },
      "source": [
        "Loan_train['Dependents']=Loan_train['Dependents'].astype('float64')"
      ],
      "execution_count": 16,
      "outputs": []
    },
    {
      "cell_type": "markdown",
      "metadata": {
        "id": "GOSUDyw6X7Mb"
      },
      "source": [
        "##Separating object and numeric data"
      ]
    },
    {
      "cell_type": "code",
      "metadata": {
        "colab": {
          "base_uri": "https://localhost:8080/"
        },
        "id": "mNpd4Hs8QoP5",
        "outputId": "2f175ff6-19df-4f4d-e23c-f8d36a335d71"
      },
      "source": [
        "cat=[]\n",
        "num=[]\n",
        "for i in Loan_train.columns:\n",
        "    if Loan_train[i].dtype=='object':\n",
        "        cat.append(i)\n",
        "    else:\n",
        "        num.append(i)\n",
        "\n",
        "print(cat)\n",
        "print(num)"
      ],
      "execution_count": 19,
      "outputs": [
        {
          "output_type": "stream",
          "name": "stdout",
          "text": [
            "['Gender', 'Married', 'Education', 'Self_Employed', 'Loan_Amount_Term', 'Credit_History', 'Property_Area', 'Loan_Status']\n",
            "['Dependents', 'ApplicantIncome', 'CoapplicantIncome', 'LoanAmount']\n"
          ]
        }
      ]
    },
    {
      "cell_type": "code",
      "metadata": {
        "colab": {
          "base_uri": "https://localhost:8080/"
        },
        "id": "mA2CWhdmQt6s",
        "outputId": "2bb71cbe-9e34-46f4-a6c2-364788c94f13"
      },
      "source": [
        "#Looking at unique values\n",
        "for i in Loan_train[cat]:\n",
        "    print(i)\n",
        "    print( Loan_train[i].value_counts())\n",
        "    print('**********************************')"
      ],
      "execution_count": 20,
      "outputs": [
        {
          "output_type": "stream",
          "name": "stdout",
          "text": [
            "Gender\n",
            "Male      489\n",
            "Female    112\n",
            "Name: Gender, dtype: int64\n",
            "**********************************\n",
            "Married\n",
            "Yes    398\n",
            "No     213\n",
            "Name: Married, dtype: int64\n",
            "**********************************\n",
            "Education\n",
            "Graduate        480\n",
            "Not Graduate    134\n",
            "Name: Education, dtype: int64\n",
            "**********************************\n",
            "Self_Employed\n",
            "No     500\n",
            "Yes     82\n",
            "Name: Self_Employed, dtype: int64\n",
            "**********************************\n",
            "Loan_Amount_Term\n",
            "360.0    512\n",
            "180.0     44\n",
            "480.0     15\n",
            "300.0     13\n",
            "240.0      4\n",
            "84.0       4\n",
            "120.0      3\n",
            "60.0       2\n",
            "36.0       2\n",
            "12.0       1\n",
            "Name: Loan_Amount_Term, dtype: int64\n",
            "**********************************\n",
            "Credit_History\n",
            "1.0    475\n",
            "0.0     89\n",
            "Name: Credit_History, dtype: int64\n",
            "**********************************\n",
            "Property_Area\n",
            "Semiurban    233\n",
            "Urban        202\n",
            "Rural        179\n",
            "Name: Property_Area, dtype: int64\n",
            "**********************************\n",
            "Loan_Status\n",
            "Y    422\n",
            "N    192\n",
            "Name: Loan_Status, dtype: int64\n",
            "**********************************\n"
          ]
        }
      ]
    },
    {
      "cell_type": "markdown",
      "metadata": {
        "id": "qvLKx7dvYBKZ"
      },
      "source": [
        "##Summary of the Numeric Data"
      ]
    },
    {
      "cell_type": "code",
      "metadata": {
        "colab": {
          "base_uri": "https://localhost:8080/",
          "height": 173
        },
        "id": "ouuGqCapQwFg",
        "outputId": "e8acbeae-7537-4d58-dea8-bec6d85ddda3"
      },
      "source": [
        "Loan_train[num].describe().T"
      ],
      "execution_count": 21,
      "outputs": [
        {
          "output_type": "execute_result",
          "data": {
            "text/html": [
              "<div>\n",
              "<style scoped>\n",
              "    .dataframe tbody tr th:only-of-type {\n",
              "        vertical-align: middle;\n",
              "    }\n",
              "\n",
              "    .dataframe tbody tr th {\n",
              "        vertical-align: top;\n",
              "    }\n",
              "\n",
              "    .dataframe thead th {\n",
              "        text-align: right;\n",
              "    }\n",
              "</style>\n",
              "<table border=\"1\" class=\"dataframe\">\n",
              "  <thead>\n",
              "    <tr style=\"text-align: right;\">\n",
              "      <th></th>\n",
              "      <th>count</th>\n",
              "      <th>mean</th>\n",
              "      <th>std</th>\n",
              "      <th>min</th>\n",
              "      <th>25%</th>\n",
              "      <th>50%</th>\n",
              "      <th>75%</th>\n",
              "      <th>max</th>\n",
              "    </tr>\n",
              "  </thead>\n",
              "  <tbody>\n",
              "    <tr>\n",
              "      <th>Dependents</th>\n",
              "      <td>599.0</td>\n",
              "      <td>0.762938</td>\n",
              "      <td>1.015216</td>\n",
              "      <td>0.0</td>\n",
              "      <td>0.0</td>\n",
              "      <td>0.0</td>\n",
              "      <td>2.00</td>\n",
              "      <td>3.0</td>\n",
              "    </tr>\n",
              "    <tr>\n",
              "      <th>ApplicantIncome</th>\n",
              "      <td>614.0</td>\n",
              "      <td>5403.459283</td>\n",
              "      <td>6109.041673</td>\n",
              "      <td>150.0</td>\n",
              "      <td>2877.5</td>\n",
              "      <td>3812.5</td>\n",
              "      <td>5795.00</td>\n",
              "      <td>81000.0</td>\n",
              "    </tr>\n",
              "    <tr>\n",
              "      <th>CoapplicantIncome</th>\n",
              "      <td>614.0</td>\n",
              "      <td>1621.245798</td>\n",
              "      <td>2926.248369</td>\n",
              "      <td>0.0</td>\n",
              "      <td>0.0</td>\n",
              "      <td>1188.5</td>\n",
              "      <td>2297.25</td>\n",
              "      <td>41667.0</td>\n",
              "    </tr>\n",
              "    <tr>\n",
              "      <th>LoanAmount</th>\n",
              "      <td>592.0</td>\n",
              "      <td>146.412162</td>\n",
              "      <td>85.587325</td>\n",
              "      <td>9.0</td>\n",
              "      <td>100.0</td>\n",
              "      <td>128.0</td>\n",
              "      <td>168.00</td>\n",
              "      <td>700.0</td>\n",
              "    </tr>\n",
              "  </tbody>\n",
              "</table>\n",
              "</div>"
            ],
            "text/plain": [
              "                   count         mean          std  ...     50%      75%      max\n",
              "Dependents         599.0     0.762938     1.015216  ...     0.0     2.00      3.0\n",
              "ApplicantIncome    614.0  5403.459283  6109.041673  ...  3812.5  5795.00  81000.0\n",
              "CoapplicantIncome  614.0  1621.245798  2926.248369  ...  1188.5  2297.25  41667.0\n",
              "LoanAmount         592.0   146.412162    85.587325  ...   128.0   168.00    700.0\n",
              "\n",
              "[4 rows x 8 columns]"
            ]
          },
          "metadata": {},
          "execution_count": 21
        }
      ]
    },
    {
      "cell_type": "markdown",
      "metadata": {
        "id": "7jmQ8PfGYF47"
      },
      "source": [
        "we observe that there is high standard deviation i.e there is a lot of variance in the Dataset.\n",
        "some Records are missing in LoanAmount and Loan_Amount_Term columns\n",
        "Maximum Loan Amount applied for is 700 thousand\n"
      ]
    },
    {
      "cell_type": "code",
      "metadata": {
        "colab": {
          "base_uri": "https://localhost:8080/",
          "height": 297
        },
        "id": "5azFUOWRQ0NI",
        "outputId": "ef5cb659-379c-49f5-fffc-b1b270192d83"
      },
      "source": [
        "Loan_train[cat].describe().T"
      ],
      "execution_count": 22,
      "outputs": [
        {
          "output_type": "execute_result",
          "data": {
            "text/html": [
              "<div>\n",
              "<style scoped>\n",
              "    .dataframe tbody tr th:only-of-type {\n",
              "        vertical-align: middle;\n",
              "    }\n",
              "\n",
              "    .dataframe tbody tr th {\n",
              "        vertical-align: top;\n",
              "    }\n",
              "\n",
              "    .dataframe thead th {\n",
              "        text-align: right;\n",
              "    }\n",
              "</style>\n",
              "<table border=\"1\" class=\"dataframe\">\n",
              "  <thead>\n",
              "    <tr style=\"text-align: right;\">\n",
              "      <th></th>\n",
              "      <th>count</th>\n",
              "      <th>unique</th>\n",
              "      <th>top</th>\n",
              "      <th>freq</th>\n",
              "    </tr>\n",
              "  </thead>\n",
              "  <tbody>\n",
              "    <tr>\n",
              "      <th>Gender</th>\n",
              "      <td>601</td>\n",
              "      <td>2</td>\n",
              "      <td>Male</td>\n",
              "      <td>489</td>\n",
              "    </tr>\n",
              "    <tr>\n",
              "      <th>Married</th>\n",
              "      <td>611</td>\n",
              "      <td>2</td>\n",
              "      <td>Yes</td>\n",
              "      <td>398</td>\n",
              "    </tr>\n",
              "    <tr>\n",
              "      <th>Education</th>\n",
              "      <td>614</td>\n",
              "      <td>2</td>\n",
              "      <td>Graduate</td>\n",
              "      <td>480</td>\n",
              "    </tr>\n",
              "    <tr>\n",
              "      <th>Self_Employed</th>\n",
              "      <td>582</td>\n",
              "      <td>2</td>\n",
              "      <td>No</td>\n",
              "      <td>500</td>\n",
              "    </tr>\n",
              "    <tr>\n",
              "      <th>Loan_Amount_Term</th>\n",
              "      <td>600</td>\n",
              "      <td>10</td>\n",
              "      <td>360</td>\n",
              "      <td>512</td>\n",
              "    </tr>\n",
              "    <tr>\n",
              "      <th>Credit_History</th>\n",
              "      <td>564</td>\n",
              "      <td>2</td>\n",
              "      <td>1</td>\n",
              "      <td>475</td>\n",
              "    </tr>\n",
              "    <tr>\n",
              "      <th>Property_Area</th>\n",
              "      <td>614</td>\n",
              "      <td>3</td>\n",
              "      <td>Semiurban</td>\n",
              "      <td>233</td>\n",
              "    </tr>\n",
              "    <tr>\n",
              "      <th>Loan_Status</th>\n",
              "      <td>614</td>\n",
              "      <td>2</td>\n",
              "      <td>Y</td>\n",
              "      <td>422</td>\n",
              "    </tr>\n",
              "  </tbody>\n",
              "</table>\n",
              "</div>"
            ],
            "text/plain": [
              "                 count unique        top freq\n",
              "Gender             601      2       Male  489\n",
              "Married            611      2        Yes  398\n",
              "Education          614      2   Graduate  480\n",
              "Self_Employed      582      2         No  500\n",
              "Loan_Amount_Term   600     10        360  512\n",
              "Credit_History     564      2          1  475\n",
              "Property_Area      614      3  Semiurban  233\n",
              "Loan_Status        614      2          Y  422"
            ]
          },
          "metadata": {},
          "execution_count": 22
        }
      ]
    },
    {
      "cell_type": "markdown",
      "metadata": {
        "id": "0a-JDXvEYJte"
      },
      "source": [
        "#####Most Applicants are Male\n",
        "#####Most applicant are Married\n",
        "#####Most Applicants have no dependents\n",
        "#####Most Applicants are not Self Employed\n",
        "#####Most Applicants are from Semi urban\n",
        "#####Most of the Loans have been Approved\n",
        "#####Minimum Term of loan in months is 12 and Maximum is 480 months."
      ]
    },
    {
      "cell_type": "markdown",
      "metadata": {
        "id": "qXOSivhnYji8"
      },
      "source": [
        "###Checking for null values"
      ]
    },
    {
      "cell_type": "code",
      "metadata": {
        "colab": {
          "base_uri": "https://localhost:8080/"
        },
        "id": "zOMq1oP1Q4iv",
        "outputId": "4f15d706-b3b1-4957-86cd-7175cc57b226"
      },
      "source": [
        "Loan_train[num].isnull().sum()"
      ],
      "execution_count": 23,
      "outputs": [
        {
          "output_type": "execute_result",
          "data": {
            "text/plain": [
              "Dependents           15\n",
              "ApplicantIncome       0\n",
              "CoapplicantIncome     0\n",
              "LoanAmount           22\n",
              "dtype: int64"
            ]
          },
          "metadata": {},
          "execution_count": 23
        }
      ]
    },
    {
      "cell_type": "code",
      "metadata": {
        "colab": {
          "base_uri": "https://localhost:8080/"
        },
        "id": "CBCstZHDQ55c",
        "outputId": "d644e2f2-edbc-4397-d72f-3f74f644988e"
      },
      "source": [
        "Loan_train[cat].isnull().sum()"
      ],
      "execution_count": 24,
      "outputs": [
        {
          "output_type": "execute_result",
          "data": {
            "text/plain": [
              "Gender              13\n",
              "Married              3\n",
              "Education            0\n",
              "Self_Employed       32\n",
              "Loan_Amount_Term    14\n",
              "Credit_History      50\n",
              "Property_Area        0\n",
              "Loan_Status          0\n",
              "dtype: int64"
            ]
          },
          "metadata": {},
          "execution_count": 24
        }
      ]
    },
    {
      "cell_type": "markdown",
      "metadata": {
        "id": "6B8FOipeYsEr"
      },
      "source": [
        "###We observe that there are Null values in the Dataset\n",
        "###Updating the values in  Tagret Variable"
      ]
    },
    {
      "cell_type": "code",
      "metadata": {
        "id": "l3AzJfLjQ8Ay"
      },
      "source": [
        "Loan_train['Loan_Status']=np.where(Loan_train['Loan_Status']=='Y',1,Loan_train['Loan_Status'])\n",
        "Loan_train['Loan_Status']=np.where(Loan_train['Loan_Status']=='N',0,Loan_train['Loan_Status'])\n",
        "Loan_train['Loan_Status']=Loan_train['Loan_Status'].astype('int64')"
      ],
      "execution_count": 25,
      "outputs": []
    },
    {
      "cell_type": "markdown",
      "metadata": {
        "id": "A_D9xnIhY6yf"
      },
      "source": [
        "##Looking at the distribution of the Dataset"
      ]
    },
    {
      "cell_type": "code",
      "metadata": {
        "colab": {
          "base_uri": "https://localhost:8080/",
          "height": 1000
        },
        "id": "BfQQo14JRF-W",
        "outputId": "dcb3794e-7781-45e8-c3dd-00bfe55ad35b"
      },
      "source": [
        "for i in Loan_train[num]:\n",
        "    plt.figure(figsize=(8,6))\n",
        "    sns.histplot(Loan_train[i],kde=True)"
      ],
      "execution_count": 26,
      "outputs": [
        {
          "output_type": "display_data",
          "data": {
            "image/png": "[encoded data removed]",
            "text/plain": [
              "<Figure size 576x432 with 1 Axes>"
            ]
          },
          "metadata": {
            "needs_background": "light"
          }
        },
        {
          "output_type": "display_data",
          "data": {
            "image/png": "[encoded data removed]",
            "text/plain": [
              "<Figure size 576x432 with 1 Axes>"
            ]
          },
          "metadata": {
            "needs_background": "light"
          }
        },
        {
          "output_type": "display_data",
          "data": {
            "image/png": "[encoded data removed]",
            "text/plain": [
              "<Figure size 576x432 with 1 Axes>"
            ]
          },
          "metadata": {
            "needs_background": "light"
          }
        },
        {
          "output_type": "display_data",
          "data": {
            "image/png": "[encoded data removed]",
            "text/plain": [
              "<Figure size 576x432 with 1 Axes>"
            ]
          },
          "metadata": {
            "needs_background": "light"
          }
        }
      ]
    },
    {
      "cell_type": "markdown",
      "metadata": {
        "id": "d5NtPzr1Y-yd"
      },
      "source": [
        "We observe that the numeric Columns are highly Skewed towards right"
      ]
    },
    {
      "cell_type": "markdown",
      "metadata": {
        "id": "TeTSqXmaZCx7"
      },
      "source": [
        "##Univariate Analysis"
      ]
    },
    {
      "cell_type": "code",
      "metadata": {
        "colab": {
          "base_uri": "https://localhost:8080/",
          "height": 511
        },
        "id": "bG8qIJLHRJR1",
        "outputId": "7e3d9257-1262-4a9b-8302-cc48f15997c3"
      },
      "source": [
        "plt.subplot(1,1,1)\n",
        "Loan_train['Loan_Status'].value_counts().plot.pie(explode=[0,0.1],autopct='%1.1f%%')\n",
        "plt.show()\n",
        "plt.subplot(1,2,2)\n",
        "sns.countplot(Loan_train['Loan_Status'])\n",
        "plt.show()"
      ],
      "execution_count": 27,
      "outputs": [
        {
          "output_type": "display_data",
          "data": {
            "image/png": "[encoded data removed]",
            "text/plain": [
              "<Figure size 432x288 with 1 Axes>"
            ]
          },
          "metadata": {}
        },
        {
          "output_type": "display_data",
          "data": {
            "image/png": "[encoded data removed]",
            "text/plain": [
              "<Figure size 432x288 with 1 Axes>"
            ]
          },
          "metadata": {
            "needs_background": "light"
          }
        }
      ]
    },
    {
      "cell_type": "markdown",
      "metadata": {
        "id": "7VXQ5R5PRQQ6"
      },
      "source": [
        "#68.7% of the Loans get approved while 31.3% get rejected"
      ]
    },
    {
      "cell_type": "code",
      "metadata": {
        "colab": {
          "base_uri": "https://localhost:8080/",
          "height": 510
        },
        "id": "KsHUh1x0ROV1",
        "outputId": "33efcfd4-6a2a-4ce3-e6c0-3460f6f0685f"
      },
      "source": [
        "Loan_train['Gender'].value_counts().plot.pie(explode=[0,0.1],autopct='%1.1f%%')\n",
        "plt.show()\n",
        "sns.countplot(Loan_train['Gender'])\n",
        "plt.show()"
      ],
      "execution_count": 28,
      "outputs": [
        {
          "output_type": "display_data",
          "data": {
            "image/png": "[encoded data removed]",
            "text/plain": [
              "<Figure size 432x288 with 1 Axes>"
            ]
          },
          "metadata": {}
        },
        {
          "output_type": "display_data",
          "data": {
            "image/png": "[encoded data removed]",
            "text/plain": [
              "<Figure size 432x288 with 1 Axes>"
            ]
          },
          "metadata": {
            "needs_background": "light"
          }
        }
      ]
    },
    {
      "cell_type": "markdown",
      "metadata": {
        "id": "6iyagN7uRUvF"
      },
      "source": [
        "#81.4% of the applicants are Male"
      ]
    },
    {
      "cell_type": "code",
      "metadata": {
        "colab": {
          "base_uri": "https://localhost:8080/",
          "height": 511
        },
        "id": "tY30zAakRVE5",
        "outputId": "a69a8a00-d4e0-4684-b7b1-8b41d68cf31e"
      },
      "source": [
        "Loan_train['Self_Employed'].value_counts().plot.pie(explode=[0,0.1],autopct='%1.1f%%')\n",
        "plt.show()\n",
        "sns.countplot(Loan_train['Self_Employed'])\n",
        "plt.show()"
      ],
      "execution_count": 29,
      "outputs": [
        {
          "output_type": "display_data",
          "data": {
            "image/png": "[encoded data removed]",
            "text/plain": [
              "<Figure size 432x288 with 1 Axes>"
            ]
          },
          "metadata": {}
        },
        {
          "output_type": "display_data",
          "data": {
            "image/png": "[encoded data removed]",
            "text/plain": [
              "<Figure size 432x288 with 1 Axes>"
            ]
          },
          "metadata": {
            "needs_background": "light"
          }
        }
      ]
    },
    {
      "cell_type": "markdown",
      "metadata": {
        "id": "A2vr_-QTRbL6"
      },
      "source": [
        "#85.9% of the applicants are Self_Employed"
      ]
    },
    {
      "cell_type": "code",
      "metadata": {
        "colab": {
          "base_uri": "https://localhost:8080/",
          "height": 510
        },
        "id": "pDsRdBMERbhu",
        "outputId": "fe1b2aab-08c7-4670-ef79-189ce08a379f"
      },
      "source": [
        "Loan_train['Dependents'].value_counts().plot.pie(autopct='%1.1f%%')\n",
        "plt.show()\n",
        "sns.countplot(Loan_train['Dependents'])\n",
        "plt.show()"
      ],
      "execution_count": 30,
      "outputs": [
        {
          "output_type": "display_data",
          "data": {
            "image/png": "[encoded data removed]",
            "text/plain": [
              "<Figure size 432x288 with 1 Axes>"
            ]
          },
          "metadata": {}
        },
        {
          "output_type": "display_data",
          "data": {
            "image/png": "[encoded data removed]",
            "text/plain": [
              "<Figure size 432x288 with 1 Axes>"
            ]
          },
          "metadata": {
            "needs_background": "light"
          }
        }
      ]
    },
    {
      "cell_type": "markdown",
      "metadata": {
        "id": "8FVY_IQHRgYx"
      },
      "source": [
        "# 57.6% of the Applicants have no dependents\n",
        "# Most Applicant have no Dependents"
      ]
    },
    {
      "cell_type": "code",
      "metadata": {
        "colab": {
          "base_uri": "https://localhost:8080/",
          "height": 530
        },
        "id": "U_RqVSTkRg2d",
        "outputId": "1788d62d-d0f2-4c94-a13c-d35445eaa9ad"
      },
      "source": [
        "Loan_train['Education'].value_counts().plot.pie(explode=[0,0.1],autopct='%1.1f%%')\n",
        "plt.show()\n",
        "sns.countplot(Loan_train['Education'])"
      ],
      "execution_count": 31,
      "outputs": [
        {
          "output_type": "display_data",
          "data": {
            "image/png": "[encoded data removed]",
            "text/plain": [
              "<Figure size 432x288 with 1 Axes>"
            ]
          },
          "metadata": {}
        },
        {
          "output_type": "execute_result",
          "data": {
            "text/plain": [
              "<matplotlib.axes._subplots.AxesSubplot at 0x7fc8b0ac5a50>"
            ]
          },
          "metadata": {},
          "execution_count": 31
        },
        {
          "output_type": "display_data",
          "data": {
            "image/png": "[encoded data removed]",
            "text/plain": [
              "<Figure size 432x288 with 1 Axes>"
            ]
          },
          "metadata": {
            "needs_background": "light"
          }
        }
      ]
    },
    {
      "cell_type": "markdown",
      "metadata": {
        "id": "XjyKYBxgRq-N"
      },
      "source": [
        "#78.2% of the Applicants are Graduates"
      ]
    },
    {
      "cell_type": "code",
      "metadata": {
        "colab": {
          "base_uri": "https://localhost:8080/",
          "height": 511
        },
        "id": "wAJvexXJRrym",
        "outputId": "e306ec75-0dfc-4bef-8bcd-1a9c6df1de64"
      },
      "source": [
        "Loan_train['Credit_History'].value_counts().plot.pie(explode=[0,0.1],autopct='%1.1f%%')\n",
        "plt.show()\n",
        "sns.countplot(Loan_train['Credit_History'])\n",
        "plt.show()"
      ],
      "execution_count": 32,
      "outputs": [
        {
          "output_type": "display_data",
          "data": {
            "image/png": "[encoded data removed]",
            "text/plain": [
              "<Figure size 432x288 with 1 Axes>"
            ]
          },
          "metadata": {}
        },
        {
          "output_type": "display_data",
          "data": {
            "image/png": "[encoded data removed]",
            "text/plain": [
              "<Figure size 432x288 with 1 Axes>"
            ]
          },
          "metadata": {
            "needs_background": "light"
          }
        }
      ]
    },
    {
      "cell_type": "markdown",
      "metadata": {
        "id": "sUFw5FstRupZ"
      },
      "source": [
        "#84.2% of the Applicants have very good Credit Score"
      ]
    },
    {
      "cell_type": "code",
      "metadata": {
        "colab": {
          "base_uri": "https://localhost:8080/",
          "height": 511
        },
        "id": "LGx7TqLWRvB0",
        "outputId": "075b752c-dac9-496a-8b74-d9b1bdb09d86"
      },
      "source": [
        "Loan_train['Property_Area'].value_counts().plot.pie(autopct='%1.1f%%')\n",
        "plt.show()\n",
        "sns.countplot(Loan_train['Property_Area'])\n",
        "plt.show()"
      ],
      "execution_count": 33,
      "outputs": [
        {
          "output_type": "display_data",
          "data": {
            "image/png": "[encoded data removed]",
            "text/plain": [
              "<Figure size 432x288 with 1 Axes>"
            ]
          },
          "metadata": {}
        },
        {
          "output_type": "display_data",
          "data": {
            "image/png": "[encoded data removed]",
            "text/plain": [
              "<Figure size 432x288 with 1 Axes>"
            ]
          },
          "metadata": {
            "needs_background": "light"
          }
        }
      ]
    },
    {
      "cell_type": "markdown",
      "metadata": {
        "id": "9Zo5qFC6R3gQ"
      },
      "source": [
        "# Most Applicants are from Urban  or Semiurban Area"
      ]
    },
    {
      "cell_type": "markdown",
      "metadata": {
        "id": "5liLtOG9R_zI"
      },
      "source": [
        "#Bivariate Analysis\n",
        "##Looking at the aproval rate for gender"
      ]
    },
    {
      "cell_type": "code",
      "metadata": {
        "colab": {
          "base_uri": "https://localhost:8080/",
          "height": 280
        },
        "id": "RQBY8jn5R6E9",
        "outputId": "9e787554-a3cd-49db-c3bd-4c9aac8ffe9d"
      },
      "source": [
        "sns.countplot(Loan_train['Gender'],hue=Loan_train['Loan_Status'])\n",
        "plt.show()"
      ],
      "execution_count": 34,
      "outputs": [
        {
          "output_type": "display_data",
          "data": {
            "image/png": "[encoded data removed]",
            "text/plain": [
              "<Figure size 432x288 with 1 Axes>"
            ]
          },
          "metadata": {
            "needs_background": "light"
          }
        }
      ]
    },
    {
      "cell_type": "code",
      "metadata": {
        "colab": {
          "base_uri": "https://localhost:8080/",
          "height": 173
        },
        "id": "w8yXq8QiSIvN",
        "outputId": "f4f49604-c48f-40c3-83fd-d2c0b31bb893"
      },
      "source": [
        "pd.crosstab(Loan_train['Gender'],Loan_train['Loan_Status'],margins=True)"
      ],
      "execution_count": 35,
      "outputs": [
        {
          "output_type": "execute_result",
          "data": {
            "text/html": [
              "<div>\n",
              "<style scoped>\n",
              "    .dataframe tbody tr th:only-of-type {\n",
              "        vertical-align: middle;\n",
              "    }\n",
              "\n",
              "    .dataframe tbody tr th {\n",
              "        vertical-align: top;\n",
              "    }\n",
              "\n",
              "    .dataframe thead th {\n",
              "        text-align: right;\n",
              "    }\n",
              "</style>\n",
              "<table border=\"1\" class=\"dataframe\">\n",
              "  <thead>\n",
              "    <tr style=\"text-align: right;\">\n",
              "      <th>Loan_Status</th>\n",
              "      <th>0</th>\n",
              "      <th>1</th>\n",
              "      <th>All</th>\n",
              "    </tr>\n",
              "    <tr>\n",
              "      <th>Gender</th>\n",
              "      <th></th>\n",
              "      <th></th>\n",
              "      <th></th>\n",
              "    </tr>\n",
              "  </thead>\n",
              "  <tbody>\n",
              "    <tr>\n",
              "      <th>Female</th>\n",
              "      <td>37</td>\n",
              "      <td>75</td>\n",
              "      <td>112</td>\n",
              "    </tr>\n",
              "    <tr>\n",
              "      <th>Male</th>\n",
              "      <td>150</td>\n",
              "      <td>339</td>\n",
              "      <td>489</td>\n",
              "    </tr>\n",
              "    <tr>\n",
              "      <th>All</th>\n",
              "      <td>187</td>\n",
              "      <td>414</td>\n",
              "      <td>601</td>\n",
              "    </tr>\n",
              "  </tbody>\n",
              "</table>\n",
              "</div>"
            ],
            "text/plain": [
              "Loan_Status    0    1  All\n",
              "Gender                    \n",
              "Female        37   75  112\n",
              "Male         150  339  489\n",
              "All          187  414  601"
            ]
          },
          "metadata": {},
          "execution_count": 35
        }
      ]
    },
    {
      "cell_type": "code",
      "metadata": {
        "id": "MdhtwZq5SKZQ"
      },
      "source": [
        "print('Approaval rate of Loans of Male Applicants',np.round(339/489,2))\n",
        "print('Approaval rate of Loans of Female Applicants',np.round(75/112,2))"
      ],
      "execution_count": null,
      "outputs": []
    },
    {
      "cell_type": "markdown",
      "metadata": {
        "id": "kCHEepHPSM49"
      },
      "source": [
        "#Although Female Applicants are much less, does not mean that their Loans are less likely to be approved."
      ]
    },
    {
      "cell_type": "markdown",
      "metadata": {
        "id": "4hcibpSRSTVI"
      },
      "source": [
        "Looking at the aproval rate with Respect to Marital Status\n"
      ]
    },
    {
      "cell_type": "code",
      "metadata": {
        "colab": {
          "base_uri": "https://localhost:8080/",
          "height": 435
        },
        "id": "h1OjU_skSPLS",
        "outputId": "80aa9c5c-34b0-4b9e-fa99-a5668fe8e7a2"
      },
      "source": [
        "sns.countplot(Loan_train['Married'],hue=Loan_train['Loan_Status'])\n",
        "plt.show()\n",
        "pd.crosstab(Loan_train['Married'],Loan_train['Loan_Status'],margins=True)"
      ],
      "execution_count": 37,
      "outputs": [
        {
          "output_type": "display_data",
          "data": {
            "image/png": "[encoded data removed]",
            "text/plain": [
              "<Figure size 432x288 with 1 Axes>"
            ]
          },
          "metadata": {
            "needs_background": "light"
          }
        },
        {
          "output_type": "execute_result",
          "data": {
            "text/html": [
              "<div>\n",
              "<style scoped>\n",
              "    .dataframe tbody tr th:only-of-type {\n",
              "        vertical-align: middle;\n",
              "    }\n",
              "\n",
              "    .dataframe tbody tr th {\n",
              "        vertical-align: top;\n",
              "    }\n",
              "\n",
              "    .dataframe thead th {\n",
              "        text-align: right;\n",
              "    }\n",
              "</style>\n",
              "<table border=\"1\" class=\"dataframe\">\n",
              "  <thead>\n",
              "    <tr style=\"text-align: right;\">\n",
              "      <th>Loan_Status</th>\n",
              "      <th>0</th>\n",
              "      <th>1</th>\n",
              "      <th>All</th>\n",
              "    </tr>\n",
              "    <tr>\n",
              "      <th>Married</th>\n",
              "      <th></th>\n",
              "      <th></th>\n",
              "      <th></th>\n",
              "    </tr>\n",
              "  </thead>\n",
              "  <tbody>\n",
              "    <tr>\n",
              "      <th>No</th>\n",
              "      <td>79</td>\n",
              "      <td>134</td>\n",
              "      <td>213</td>\n",
              "    </tr>\n",
              "    <tr>\n",
              "      <th>Yes</th>\n",
              "      <td>113</td>\n",
              "      <td>285</td>\n",
              "      <td>398</td>\n",
              "    </tr>\n",
              "    <tr>\n",
              "      <th>All</th>\n",
              "      <td>192</td>\n",
              "      <td>419</td>\n",
              "      <td>611</td>\n",
              "    </tr>\n",
              "  </tbody>\n",
              "</table>\n",
              "</div>"
            ],
            "text/plain": [
              "Loan_Status    0    1  All\n",
              "Married                   \n",
              "No            79  134  213\n",
              "Yes          113  285  398\n",
              "All          192  419  611"
            ]
          },
          "metadata": {},
          "execution_count": 37
        }
      ]
    },
    {
      "cell_type": "code",
      "metadata": {
        "colab": {
          "base_uri": "https://localhost:8080/"
        },
        "id": "5Aog4T3cSf-_",
        "outputId": "f949ee1b-a58d-4149-f9fe-3baae23abb3e"
      },
      "source": [
        "print('Approaval rate of Loans of Married Applicants',np.round(285/398,2))\n",
        "print('Approaval rate of Loans of Non-Married Applicants',np.round(134/213,2))"
      ],
      "execution_count": 39,
      "outputs": [
        {
          "output_type": "stream",
          "name": "stdout",
          "text": [
            "Approaval rate of Loans of Married Applicants 0.72\n",
            "Approaval rate of Loans of Non-Married Applicants 0.63\n"
          ]
        }
      ]
    },
    {
      "cell_type": "markdown",
      "metadata": {
        "id": "Hls-SSv_SmE9"
      },
      "source": [
        "#Loans of Married Applicants are more likely to be approved"
      ]
    },
    {
      "cell_type": "code",
      "metadata": {
        "colab": {
          "base_uri": "https://localhost:8080/",
          "height": 497
        },
        "id": "V4UKCrQfSm3P",
        "outputId": "12592fc1-9392-4874-b56e-dfea3effe387"
      },
      "source": [
        "sns.countplot(Loan_train['Dependents'],hue=Loan_train['Loan_Status'])\n",
        "plt.show()\n",
        "pd.crosstab(Loan_train['Dependents'],Loan_train['Loan_Status'],margins=True,normalize=True)"
      ],
      "execution_count": 40,
      "outputs": [
        {
          "output_type": "display_data",
          "data": {
            "image/png": "[encoded data removed]",
            "text/plain": [
              "<Figure size 432x288 with 1 Axes>"
            ]
          },
          "metadata": {
            "needs_background": "light"
          }
        },
        {
          "output_type": "execute_result",
          "data": {
            "text/html": [
              "<div>\n",
              "<style scoped>\n",
              "    .dataframe tbody tr th:only-of-type {\n",
              "        vertical-align: middle;\n",
              "    }\n",
              "\n",
              "    .dataframe tbody tr th {\n",
              "        vertical-align: top;\n",
              "    }\n",
              "\n",
              "    .dataframe thead th {\n",
              "        text-align: right;\n",
              "    }\n",
              "</style>\n",
              "<table border=\"1\" class=\"dataframe\">\n",
              "  <thead>\n",
              "    <tr style=\"text-align: right;\">\n",
              "      <th>Loan_Status</th>\n",
              "      <th>0</th>\n",
              "      <th>1</th>\n",
              "      <th>All</th>\n",
              "    </tr>\n",
              "    <tr>\n",
              "      <th>Dependents</th>\n",
              "      <th></th>\n",
              "      <th></th>\n",
              "      <th></th>\n",
              "    </tr>\n",
              "  </thead>\n",
              "  <tbody>\n",
              "    <tr>\n",
              "      <th>0.0</th>\n",
              "      <td>0.178631</td>\n",
              "      <td>0.397329</td>\n",
              "      <td>0.575960</td>\n",
              "    </tr>\n",
              "    <tr>\n",
              "      <th>1.0</th>\n",
              "      <td>0.060100</td>\n",
              "      <td>0.110184</td>\n",
              "      <td>0.170284</td>\n",
              "    </tr>\n",
              "    <tr>\n",
              "      <th>2.0</th>\n",
              "      <td>0.041736</td>\n",
              "      <td>0.126878</td>\n",
              "      <td>0.168614</td>\n",
              "    </tr>\n",
              "    <tr>\n",
              "      <th>3.0</th>\n",
              "      <td>0.030050</td>\n",
              "      <td>0.055092</td>\n",
              "      <td>0.085142</td>\n",
              "    </tr>\n",
              "    <tr>\n",
              "      <th>All</th>\n",
              "      <td>0.310518</td>\n",
              "      <td>0.689482</td>\n",
              "      <td>1.000000</td>\n",
              "    </tr>\n",
              "  </tbody>\n",
              "</table>\n",
              "</div>"
            ],
            "text/plain": [
              "Loan_Status         0         1       All\n",
              "Dependents                               \n",
              "0.0          0.178631  0.397329  0.575960\n",
              "1.0          0.060100  0.110184  0.170284\n",
              "2.0          0.041736  0.126878  0.168614\n",
              "3.0          0.030050  0.055092  0.085142\n",
              "All          0.310518  0.689482  1.000000"
            ]
          },
          "metadata": {},
          "execution_count": 40
        }
      ]
    },
    {
      "cell_type": "markdown",
      "metadata": {
        "id": "H0KHV8aDSwcn"
      },
      "source": [
        "#Applicants with 0 Dependents have more chances of Loan Approval, while 3+ Dependents have very low chances"
      ]
    },
    {
      "cell_type": "markdown",
      "metadata": {
        "id": "KoB7xsyqS147"
      },
      "source": [
        "##Looking at the aproval rate with Respect to Education"
      ]
    },
    {
      "cell_type": "code",
      "metadata": {
        "colab": {
          "base_uri": "https://localhost:8080/",
          "height": 435
        },
        "id": "14viIWEaS2PX",
        "outputId": "5e8c3ae9-172d-452f-f77e-b187dccd4a6f"
      },
      "source": [
        "sns.countplot(Loan_train['Education'],hue=Loan_train['Loan_Status'])\n",
        "plt.show()\n",
        "pd.crosstab(Loan_train['Education'],Loan_train['Loan_Status'],margins=True)\n"
      ],
      "execution_count": 42,
      "outputs": [
        {
          "output_type": "display_data",
          "data": {
            "image/png": "[encoded data removed]",
            "text/plain": [
              "<Figure size 432x288 with 1 Axes>"
            ]
          },
          "metadata": {
            "needs_background": "light"
          }
        },
        {
          "output_type": "execute_result",
          "data": {
            "text/html": [
              "<div>\n",
              "<style scoped>\n",
              "    .dataframe tbody tr th:only-of-type {\n",
              "        vertical-align: middle;\n",
              "    }\n",
              "\n",
              "    .dataframe tbody tr th {\n",
              "        vertical-align: top;\n",
              "    }\n",
              "\n",
              "    .dataframe thead th {\n",
              "        text-align: right;\n",
              "    }\n",
              "</style>\n",
              "<table border=\"1\" class=\"dataframe\">\n",
              "  <thead>\n",
              "    <tr style=\"text-align: right;\">\n",
              "      <th>Loan_Status</th>\n",
              "      <th>0</th>\n",
              "      <th>1</th>\n",
              "      <th>All</th>\n",
              "    </tr>\n",
              "    <tr>\n",
              "      <th>Education</th>\n",
              "      <th></th>\n",
              "      <th></th>\n",
              "      <th></th>\n",
              "    </tr>\n",
              "  </thead>\n",
              "  <tbody>\n",
              "    <tr>\n",
              "      <th>Graduate</th>\n",
              "      <td>140</td>\n",
              "      <td>340</td>\n",
              "      <td>480</td>\n",
              "    </tr>\n",
              "    <tr>\n",
              "      <th>Not Graduate</th>\n",
              "      <td>52</td>\n",
              "      <td>82</td>\n",
              "      <td>134</td>\n",
              "    </tr>\n",
              "    <tr>\n",
              "      <th>All</th>\n",
              "      <td>192</td>\n",
              "      <td>422</td>\n",
              "      <td>614</td>\n",
              "    </tr>\n",
              "  </tbody>\n",
              "</table>\n",
              "</div>"
            ],
            "text/plain": [
              "Loan_Status     0    1  All\n",
              "Education                  \n",
              "Graduate      140  340  480\n",
              "Not Graduate   52   82  134\n",
              "All           192  422  614"
            ]
          },
          "metadata": {},
          "execution_count": 42
        }
      ]
    },
    {
      "cell_type": "code",
      "metadata": {
        "colab": {
          "base_uri": "https://localhost:8080/"
        },
        "id": "ysWDFBvxTB_5",
        "outputId": "c4498e88-50bb-4989-80b9-7cfc1928bf6c"
      },
      "source": [
        "print('Approaval rate of Loans of Graduate Applicants',np.round(340/480,2))\n",
        "print('Approaval rate of Loans of Not Graduate Applicants',np.round(82/134,2))"
      ],
      "execution_count": 43,
      "outputs": [
        {
          "output_type": "stream",
          "name": "stdout",
          "text": [
            "Approaval rate of Loans of Graduate Applicants 0.71\n",
            "Approaval rate of Loans of Not Graduate Applicants 0.61\n"
          ]
        }
      ]
    },
    {
      "cell_type": "markdown",
      "metadata": {
        "id": "hfz5-ZO5TNdK"
      },
      "source": [
        "##Looking at the aproval rate with Respect to Credit Score\n"
      ]
    },
    {
      "cell_type": "code",
      "metadata": {
        "colab": {
          "base_uri": "https://localhost:8080/",
          "height": 436
        },
        "id": "QmYLi49NTNug",
        "outputId": "7ec96bfd-6e73-4916-8819-10982d4100f0"
      },
      "source": [
        "sns.countplot(Loan_train['Credit_History'],hue=Loan_train['Loan_Status'])\n",
        "plt.show()\n",
        "pd.crosstab(Loan_train['Credit_History'],Loan_train['Loan_Status'],margins=True)"
      ],
      "execution_count": 44,
      "outputs": [
        {
          "output_type": "display_data",
          "data": {
            "image/png": "[encoded data removed]",
            "text/plain": [
              "<Figure size 432x288 with 1 Axes>"
            ]
          },
          "metadata": {
            "needs_background": "light"
          }
        },
        {
          "output_type": "execute_result",
          "data": {
            "text/html": [
              "<div>\n",
              "<style scoped>\n",
              "    .dataframe tbody tr th:only-of-type {\n",
              "        vertical-align: middle;\n",
              "    }\n",
              "\n",
              "    .dataframe tbody tr th {\n",
              "        vertical-align: top;\n",
              "    }\n",
              "\n",
              "    .dataframe thead th {\n",
              "        text-align: right;\n",
              "    }\n",
              "</style>\n",
              "<table border=\"1\" class=\"dataframe\">\n",
              "  <thead>\n",
              "    <tr style=\"text-align: right;\">\n",
              "      <th>Loan_Status</th>\n",
              "      <th>0</th>\n",
              "      <th>1</th>\n",
              "      <th>All</th>\n",
              "    </tr>\n",
              "    <tr>\n",
              "      <th>Credit_History</th>\n",
              "      <th></th>\n",
              "      <th></th>\n",
              "      <th></th>\n",
              "    </tr>\n",
              "  </thead>\n",
              "  <tbody>\n",
              "    <tr>\n",
              "      <th>0.0</th>\n",
              "      <td>82</td>\n",
              "      <td>7</td>\n",
              "      <td>89</td>\n",
              "    </tr>\n",
              "    <tr>\n",
              "      <th>1.0</th>\n",
              "      <td>97</td>\n",
              "      <td>378</td>\n",
              "      <td>475</td>\n",
              "    </tr>\n",
              "    <tr>\n",
              "      <th>All</th>\n",
              "      <td>179</td>\n",
              "      <td>385</td>\n",
              "      <td>564</td>\n",
              "    </tr>\n",
              "  </tbody>\n",
              "</table>\n",
              "</div>"
            ],
            "text/plain": [
              "Loan_Status       0    1  All\n",
              "Credit_History               \n",
              "0.0              82    7   89\n",
              "1.0              97  378  475\n",
              "All             179  385  564"
            ]
          },
          "metadata": {},
          "execution_count": 44
        }
      ]
    },
    {
      "cell_type": "code",
      "metadata": {
        "colab": {
          "base_uri": "https://localhost:8080/"
        },
        "id": "CEypkE2kTa5D",
        "outputId": "adab1a3b-c34c-44bb-8155-9ba535f7b3be"
      },
      "source": [
        "print('Approaval rate of Loans for Applicants who do not have credit history meets guidelines',np.round(7/89,2))\n",
        "print('Approaval rate of Loans for Applicants who have credit history meets guidelines',np.round(378/475,2))"
      ],
      "execution_count": 45,
      "outputs": [
        {
          "output_type": "stream",
          "name": "stdout",
          "text": [
            "Approaval rate of Loans for Applicants who do not have credit history meets guidelines 0.08\n",
            "Approaval rate of Loans for Applicants who have credit history meets guidelines 0.8\n"
          ]
        }
      ]
    },
    {
      "cell_type": "markdown",
      "metadata": {
        "id": "JLVQoXWOTeKX"
      },
      "source": [
        "###As we Expect Applicants with good credit History have more chances of Loan Approval while for Applicants with Poor Credit History there is almost no individual."
      ]
    },
    {
      "cell_type": "markdown",
      "metadata": {
        "id": "di1wbJ2cTjYD"
      },
      "source": [
        "##Looking at the aproval rate with Respect to Property Area"
      ]
    },
    {
      "cell_type": "code",
      "metadata": {
        "colab": {
          "base_uri": "https://localhost:8080/",
          "height": 467
        },
        "id": "E9AxhvBvTgQm",
        "outputId": "2d19f1f8-055c-4c6f-a21d-9a3e75cf8085"
      },
      "source": [
        "sns.countplot(Loan_train['Property_Area'],hue=Loan_train['Loan_Status'])\n",
        "plt.show()\n",
        "pd.crosstab(Loan_train['Property_Area'],Loan_train['Loan_Status'],margins=True)"
      ],
      "execution_count": 46,
      "outputs": [
        {
          "output_type": "display_data",
          "data": {
            "image/png": "[encoded data removed]",
            "text/plain": [
              "<Figure size 432x288 with 1 Axes>"
            ]
          },
          "metadata": {
            "needs_background": "light"
          }
        },
        {
          "output_type": "execute_result",
          "data": {
            "text/html": [
              "<div>\n",
              "<style scoped>\n",
              "    .dataframe tbody tr th:only-of-type {\n",
              "        vertical-align: middle;\n",
              "    }\n",
              "\n",
              "    .dataframe tbody tr th {\n",
              "        vertical-align: top;\n",
              "    }\n",
              "\n",
              "    .dataframe thead th {\n",
              "        text-align: right;\n",
              "    }\n",
              "</style>\n",
              "<table border=\"1\" class=\"dataframe\">\n",
              "  <thead>\n",
              "    <tr style=\"text-align: right;\">\n",
              "      <th>Loan_Status</th>\n",
              "      <th>0</th>\n",
              "      <th>1</th>\n",
              "      <th>All</th>\n",
              "    </tr>\n",
              "    <tr>\n",
              "      <th>Property_Area</th>\n",
              "      <th></th>\n",
              "      <th></th>\n",
              "      <th></th>\n",
              "    </tr>\n",
              "  </thead>\n",
              "  <tbody>\n",
              "    <tr>\n",
              "      <th>Rural</th>\n",
              "      <td>69</td>\n",
              "      <td>110</td>\n",
              "      <td>179</td>\n",
              "    </tr>\n",
              "    <tr>\n",
              "      <th>Semiurban</th>\n",
              "      <td>54</td>\n",
              "      <td>179</td>\n",
              "      <td>233</td>\n",
              "    </tr>\n",
              "    <tr>\n",
              "      <th>Urban</th>\n",
              "      <td>69</td>\n",
              "      <td>133</td>\n",
              "      <td>202</td>\n",
              "    </tr>\n",
              "    <tr>\n",
              "      <th>All</th>\n",
              "      <td>192</td>\n",
              "      <td>422</td>\n",
              "      <td>614</td>\n",
              "    </tr>\n",
              "  </tbody>\n",
              "</table>\n",
              "</div>"
            ],
            "text/plain": [
              "Loan_Status      0    1  All\n",
              "Property_Area               \n",
              "Rural           69  110  179\n",
              "Semiurban       54  179  233\n",
              "Urban           69  133  202\n",
              "All            192  422  614"
            ]
          },
          "metadata": {},
          "execution_count": 46
        }
      ]
    },
    {
      "cell_type": "code",
      "metadata": {
        "colab": {
          "base_uri": "https://localhost:8080/"
        },
        "id": "m2xxJVffTrE5",
        "outputId": "c207dbe6-8f6e-401e-d4ae-428e2041ec81"
      },
      "source": [
        "print('Approaval rate of Loans for Applicants from Rural Area',np.round(110/179,2))\n",
        "print('Approaval rate of Loans for Applicants from Semiurban Area',np.round(179/233,2))\n",
        "print('Approaval rate of Loans for Applicants from Urban Area',np.round(133/202,2))"
      ],
      "execution_count": 47,
      "outputs": [
        {
          "output_type": "stream",
          "name": "stdout",
          "text": [
            "Approaval rate of Loans for Applicants from Rural Area 0.61\n",
            "Approaval rate of Loans for Applicants from Semiurban Area 0.77\n",
            "Approaval rate of Loans for Applicants from Urban Area 0.66\n"
          ]
        }
      ]
    },
    {
      "cell_type": "markdown",
      "metadata": {
        "id": "-dA8rC08TvUR"
      },
      "source": [
        "###Applicants from Semiurban Area have more chances of Loan Approval while for Applicants from Rural area have least."
      ]
    },
    {
      "cell_type": "markdown",
      "metadata": {
        "id": "sEtkk_xKTwwM"
      },
      "source": [
        "##Looking at the aproval rate with Respect to Applicant Income."
      ]
    },
    {
      "cell_type": "code",
      "metadata": {
        "colab": {
          "base_uri": "https://localhost:8080/",
          "height": 296
        },
        "id": "Y4Nd_HeuTw7z",
        "outputId": "50e7df3f-4a25-40d7-b800-32216ab08de8"
      },
      "source": [
        "sns.kdeplot('ApplicantIncome',hue='Loan_Status',data=Loan_train)"
      ],
      "execution_count": 49,
      "outputs": [
        {
          "output_type": "execute_result",
          "data": {
            "text/plain": [
              "<matplotlib.axes._subplots.AxesSubplot at 0x7fc8affb3610>"
            ]
          },
          "metadata": {},
          "execution_count": 49
        },
        {
          "output_type": "display_data",
          "data": {
            "image/png": "[encoded data removed]",
            "text/plain": [
              "<Figure size 432x288 with 1 Axes>"
            ]
          },
          "metadata": {
            "needs_background": "light"
          }
        }
      ]
    },
    {
      "cell_type": "code",
      "metadata": {
        "colab": {
          "base_uri": "https://localhost:8080/",
          "height": 297
        },
        "id": "t16A2pBfUY6t",
        "outputId": "f94af7d2-ac0a-468b-dd67-ab6b03098821"
      },
      "source": [
        "sns.barplot('Loan_Status','ApplicantIncome',data=Loan_train)"
      ],
      "execution_count": 50,
      "outputs": [
        {
          "output_type": "execute_result",
          "data": {
            "text/plain": [
              "<matplotlib.axes._subplots.AxesSubplot at 0x7fc8b00061d0>"
            ]
          },
          "metadata": {},
          "execution_count": 50
        },
        {
          "output_type": "display_data",
          "data": {
            "image/png": "[encoded data removed]",
            "text/plain": [
              "<Figure size 432x288 with 1 Axes>"
            ]
          },
          "metadata": {
            "needs_background": "light"
          }
        }
      ]
    },
    {
      "cell_type": "markdown",
      "metadata": {
        "id": "6SVq4B61UcLb"
      },
      "source": [
        "### We Would Expect Applicant with Higer Income have more chances for their Loans to be approved\n",
        "### But as we can see Applicants with Higher Income also have thier Loans Rejected.\n",
        "### NOthing can be concluded on the relation b/w Loan_Status and ApplicantIncome"
      ]
    },
    {
      "cell_type": "markdown",
      "metadata": {
        "id": "AKjghxjqUl-I"
      },
      "source": [
        "##Looking at the aproval rate with Respect to Loan Amount"
      ]
    },
    {
      "cell_type": "code",
      "metadata": {
        "colab": {
          "base_uri": "https://localhost:8080/",
          "height": 296
        },
        "id": "i3q2-3vwUg-x",
        "outputId": "b95dc7dc-b4a6-4752-8af5-03604d6bafdf"
      },
      "source": [
        "sns.kdeplot('LoanAmount',hue='Loan_Status',data=Loan_train)"
      ],
      "execution_count": 51,
      "outputs": [
        {
          "output_type": "execute_result",
          "data": {
            "text/plain": [
              "<matplotlib.axes._subplots.AxesSubplot at 0x7fc8afef0f90>"
            ]
          },
          "metadata": {},
          "execution_count": 51
        },
        {
          "output_type": "display_data",
          "data": {
            "image/png": "[encoded data removed]",
            "text/plain": [
              "<Figure size 432x288 with 1 Axes>"
            ]
          },
          "metadata": {
            "needs_background": "light"
          }
        }
      ]
    },
    {
      "cell_type": "markdown",
      "metadata": {
        "id": "Kgl2sSVLUt02"
      },
      "source": [
        "### Nothing can be concluded on the relation b/w Loan_Status and Co applicant Income"
      ]
    },
    {
      "cell_type": "markdown",
      "metadata": {
        "id": "KHDPivF0VAua"
      },
      "source": [
        "##Checking for the Outliers."
      ]
    },
    {
      "cell_type": "code",
      "metadata": {
        "colab": {
          "base_uri": "https://localhost:8080/",
          "height": 1000
        },
        "id": "k5sinc9KU_TW",
        "outputId": "5ab34610-1dad-49e9-a18d-636d6db567e0"
      },
      "source": [
        "for i in Loan_train[num]:\n",
        "    x=1\n",
        "    axes=plt.subplots(x)\n",
        "    sns.boxplot(Loan_train[i],ax=axes[x])\n",
        "    x=x+1"
      ],
      "execution_count": 52,
      "outputs": [
        {
          "output_type": "display_data",
          "data": {
            "image/png": "[encoded data removed]",
            "text/plain": [
              "<Figure size 432x288 with 1 Axes>"
            ]
          },
          "metadata": {
            "needs_background": "light"
          }
        },
        {
          "output_type": "display_data",
          "data": {
            "image/png": "[encoded data removed]",
            "text/plain": [
              "<Figure size 432x288 with 1 Axes>"
            ]
          },
          "metadata": {
            "needs_background": "light"
          }
        },
        {
          "output_type": "display_data",
          "data": {
            "image/png": "[encoded data removed]",
            "text/plain": [
              "<Figure size 432x288 with 1 Axes>"
            ]
          },
          "metadata": {
            "needs_background": "light"
          }
        },
        {
          "output_type": "display_data",
          "data": {
            "image/png": "[encoded data removed]",
            "text/plain": [
              "<Figure size 432x288 with 1 Axes>"
            ]
          },
          "metadata": {
            "needs_background": "light"
          }
        }
      ]
    },
    {
      "cell_type": "markdown",
      "metadata": {
        "id": "xWRvJIFyVK4H"
      },
      "source": [
        "###We observe there are Significant Outliers"
      ]
    },
    {
      "cell_type": "markdown",
      "metadata": {
        "id": "4oU9vZMrWIa1"
      },
      "source": [
        "##Multivariate Analysis"
      ]
    },
    {
      "cell_type": "code",
      "metadata": {
        "colab": {
          "base_uri": "https://localhost:8080/",
          "height": 743
        },
        "id": "84V2wH89WHB_",
        "outputId": "2f91e457-ee37-4072-b11f-eab1f2c6c84c"
      },
      "source": [
        "sns.pairplot(Loan_train[num],corner=True)"
      ],
      "execution_count": 53,
      "outputs": [
        {
          "output_type": "execute_result",
          "data": {
            "text/plain": [
              "<seaborn.axisgrid.PairGrid at 0x7fc8b018bcd0>"
            ]
          },
          "metadata": {},
          "execution_count": 53
        },
        {
          "output_type": "display_data",
          "data": {
            "image/png": "[encoded data removed]",
            "text/plain": [
              "<Figure size 720x720 with 14 Axes>"
            ]
          },
          "metadata": {
            "needs_background": "light"
          }
        }
      ]
    },
    {
      "cell_type": "code",
      "metadata": {
        "colab": {
          "base_uri": "https://localhost:8080/",
          "height": 372
        },
        "id": "lMHdKhyfWSH5",
        "outputId": "57a5f8a4-5025-4a80-a64b-fb888cb4d5a2"
      },
      "source": [
        "sns.heatmap(Loan_train.corr(),annot=True,mask=np.triu(Loan_train.corr(),+1))"
      ],
      "execution_count": 54,
      "outputs": [
        {
          "output_type": "execute_result",
          "data": {
            "text/plain": [
              "<matplotlib.axes._subplots.AxesSubplot at 0x7fc909ef7390>"
            ]
          },
          "metadata": {},
          "execution_count": 54
        },
        {
          "output_type": "display_data",
          "data": {
            "image/png": "[encoded data removed]",
            "text/plain": [
              "<Figure size 432x288 with 2 Axes>"
            ]
          },
          "metadata": {
            "needs_background": "light"
          }
        }
      ]
    },
    {
      "cell_type": "markdown",
      "metadata": {
        "id": "oQfiXBCkWWTu"
      },
      "source": [
        "# We observe there is no significan correlation Between the variables \n"
      ]
    },
    {
      "cell_type": "code",
      "metadata": {
        "id": "wWyhtsjxWVPn"
      },
      "source": [
        "cat_cols=['Gender','Married','Education','Self_Employed','Loan_Amount_Term','Credit_History','Property_Area']"
      ],
      "execution_count": 55,
      "outputs": []
    },
    {
      "cell_type": "code",
      "metadata": {
        "id": "FssZOZwWWZWd"
      },
      "source": [
        "con_col=num"
      ],
      "execution_count": 56,
      "outputs": []
    },
    {
      "cell_type": "code",
      "metadata": {
        "id": "BNlRP23yWgfM"
      },
      "source": [
        "Loan_train['Gender']=Loan_train['Gender'].fillna(Loan_train['Gender'].mode()[0])\n",
        "Loan_train['Married']=Loan_train['Married'].fillna(Loan_train['Married'].mode()[0])\n",
        "Loan_train['Dependents']=Loan_train['Dependents'].fillna(Loan_train['Dependents'].mode()[0])\n",
        "Loan_train['Self_Employed']=Loan_train['Self_Employed'].fillna(Loan_train['Self_Employed'].mode()[0])\n",
        "Loan_train['LoanAmount']=Loan_train['LoanAmount'].fillna(Loan_train['LoanAmount'].median())\n",
        "Loan_train['Loan_Amount_Term']=Loan_train['Loan_Amount_Term'].fillna(Loan_train['Loan_Amount_Term'].median())\n",
        "Loan_train.loc[(Loan_train.Credit_History.isnull())&(Loan_train.ApplicantIncome>=3859),'Credit_History']=1\n",
        "Loan_train.loc[(Loan_train.Credit_History.isnull())&(Loan_train.ApplicantIncome<=3859),'Credit_History']=0"
      ],
      "execution_count": 57,
      "outputs": []
    },
    {
      "cell_type": "markdown",
      "metadata": {
        "id": "jLjKO2jCWlft"
      },
      "source": [
        "##Encoding and Scaling"
      ]
    },
    {
      "cell_type": "code",
      "metadata": {
        "colab": {
          "base_uri": "https://localhost:8080/",
          "height": 258
        },
        "id": "dWH-mozsWluj",
        "outputId": "d4a8f7d5-f641-4db0-9a61-c6e630a551d8"
      },
      "source": [
        "Loan_train = pd.get_dummies(Loan_train, columns = cat_cols, drop_first = True)\n",
        "from sklearn.preprocessing import StandardScaler\n",
        "scaler=StandardScaler()\n",
        "Loan_train[con_col] = scaler.fit_transform(Loan_train[con_col])\n",
        "print(\"The first 5 rows of data are\")\n",
        "Loan_train.head()"
      ],
      "execution_count": 58,
      "outputs": [
        {
          "output_type": "stream",
          "name": "stdout",
          "text": [
            "The first 5 rows of data are\n"
          ]
        },
        {
          "output_type": "execute_result",
          "data": {
            "text/html": [
              "<div>\n",
              "<style scoped>\n",
              "    .dataframe tbody tr th:only-of-type {\n",
              "        vertical-align: middle;\n",
              "    }\n",
              "\n",
              "    .dataframe tbody tr th {\n",
              "        vertical-align: top;\n",
              "    }\n",
              "\n",
              "    .dataframe thead th {\n",
              "        text-align: right;\n",
              "    }\n",
              "</style>\n",
              "<table border=\"1\" class=\"dataframe\">\n",
              "  <thead>\n",
              "    <tr style=\"text-align: right;\">\n",
              "      <th></th>\n",
              "      <th>Dependents</th>\n",
              "      <th>ApplicantIncome</th>\n",
              "      <th>CoapplicantIncome</th>\n",
              "      <th>LoanAmount</th>\n",
              "      <th>Loan_Status</th>\n",
              "      <th>Gender_Male</th>\n",
              "      <th>Married_Yes</th>\n",
              "      <th>Education_Not Graduate</th>\n",
              "      <th>Self_Employed_Yes</th>\n",
              "      <th>Loan_Amount_Term_36.0</th>\n",
              "      <th>Loan_Amount_Term_60.0</th>\n",
              "      <th>Loan_Amount_Term_84.0</th>\n",
              "      <th>Loan_Amount_Term_120.0</th>\n",
              "      <th>Loan_Amount_Term_180.0</th>\n",
              "      <th>Loan_Amount_Term_240.0</th>\n",
              "      <th>Loan_Amount_Term_300.0</th>\n",
              "      <th>Loan_Amount_Term_360.0</th>\n",
              "      <th>Loan_Amount_Term_480.0</th>\n",
              "      <th>Credit_History_1.0</th>\n",
              "      <th>Property_Area_Semiurban</th>\n",
              "      <th>Property_Area_Urban</th>\n",
              "    </tr>\n",
              "  </thead>\n",
              "  <tbody>\n",
              "    <tr>\n",
              "      <th>0</th>\n",
              "      <td>-0.737806</td>\n",
              "      <td>0.072991</td>\n",
              "      <td>-0.554487</td>\n",
              "      <td>-0.211241</td>\n",
              "      <td>1</td>\n",
              "      <td>1</td>\n",
              "      <td>0</td>\n",
              "      <td>0</td>\n",
              "      <td>0</td>\n",
              "      <td>0</td>\n",
              "      <td>0</td>\n",
              "      <td>0</td>\n",
              "      <td>0</td>\n",
              "      <td>0</td>\n",
              "      <td>0</td>\n",
              "      <td>0</td>\n",
              "      <td>1</td>\n",
              "      <td>0</td>\n",
              "      <td>1</td>\n",
              "      <td>0</td>\n",
              "      <td>1</td>\n",
              "    </tr>\n",
              "    <tr>\n",
              "      <th>1</th>\n",
              "      <td>0.253470</td>\n",
              "      <td>-0.134412</td>\n",
              "      <td>-0.038732</td>\n",
              "      <td>-0.211241</td>\n",
              "      <td>0</td>\n",
              "      <td>1</td>\n",
              "      <td>1</td>\n",
              "      <td>0</td>\n",
              "      <td>0</td>\n",
              "      <td>0</td>\n",
              "      <td>0</td>\n",
              "      <td>0</td>\n",
              "      <td>0</td>\n",
              "      <td>0</td>\n",
              "      <td>0</td>\n",
              "      <td>0</td>\n",
              "      <td>1</td>\n",
              "      <td>0</td>\n",
              "      <td>1</td>\n",
              "      <td>0</td>\n",
              "      <td>0</td>\n",
              "    </tr>\n",
              "    <tr>\n",
              "      <th>2</th>\n",
              "      <td>-0.737806</td>\n",
              "      <td>-0.393747</td>\n",
              "      <td>-0.554487</td>\n",
              "      <td>-0.948996</td>\n",
              "      <td>1</td>\n",
              "      <td>1</td>\n",
              "      <td>1</td>\n",
              "      <td>0</td>\n",
              "      <td>1</td>\n",
              "      <td>0</td>\n",
              "      <td>0</td>\n",
              "      <td>0</td>\n",
              "      <td>0</td>\n",
              "      <td>0</td>\n",
              "      <td>0</td>\n",
              "      <td>0</td>\n",
              "      <td>1</td>\n",
              "      <td>0</td>\n",
              "      <td>1</td>\n",
              "      <td>0</td>\n",
              "      <td>1</td>\n",
              "    </tr>\n",
              "    <tr>\n",
              "      <th>3</th>\n",
              "      <td>-0.737806</td>\n",
              "      <td>-0.462062</td>\n",
              "      <td>0.251980</td>\n",
              "      <td>-0.306435</td>\n",
              "      <td>1</td>\n",
              "      <td>1</td>\n",
              "      <td>1</td>\n",
              "      <td>1</td>\n",
              "      <td>0</td>\n",
              "      <td>0</td>\n",
              "      <td>0</td>\n",
              "      <td>0</td>\n",
              "      <td>0</td>\n",
              "      <td>0</td>\n",
              "      <td>0</td>\n",
              "      <td>0</td>\n",
              "      <td>1</td>\n",
              "      <td>0</td>\n",
              "      <td>1</td>\n",
              "      <td>0</td>\n",
              "      <td>1</td>\n",
              "    </tr>\n",
              "    <tr>\n",
              "      <th>4</th>\n",
              "      <td>-0.737806</td>\n",
              "      <td>0.097728</td>\n",
              "      <td>-0.554487</td>\n",
              "      <td>-0.056551</td>\n",
              "      <td>1</td>\n",
              "      <td>1</td>\n",
              "      <td>0</td>\n",
              "      <td>0</td>\n",
              "      <td>0</td>\n",
              "      <td>0</td>\n",
              "      <td>0</td>\n",
              "      <td>0</td>\n",
              "      <td>0</td>\n",
              "      <td>0</td>\n",
              "      <td>0</td>\n",
              "      <td>0</td>\n",
              "      <td>1</td>\n",
              "      <td>0</td>\n",
              "      <td>1</td>\n",
              "      <td>0</td>\n",
              "      <td>1</td>\n",
              "    </tr>\n",
              "  </tbody>\n",
              "</table>\n",
              "</div>"
            ],
            "text/plain": [
              "   Dependents  ApplicantIncome  ...  Property_Area_Semiurban  Property_Area_Urban\n",
              "0   -0.737806         0.072991  ...                        0                    1\n",
              "1    0.253470        -0.134412  ...                        0                    0\n",
              "2   -0.737806        -0.393747  ...                        0                    1\n",
              "3   -0.737806        -0.462062  ...                        0                    1\n",
              "4   -0.737806         0.097728  ...                        0                    1\n",
              "\n",
              "[5 rows x 21 columns]"
            ]
          },
          "metadata": {},
          "execution_count": 58
        }
      ]
    }
  ]
}
